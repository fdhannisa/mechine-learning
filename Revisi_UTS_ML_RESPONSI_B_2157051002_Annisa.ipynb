{
  "nbformat": 4,
  "nbformat_minor": 0,
  "metadata": {
    "colab": {
      "provenance": []
    },
    "kernelspec": {
      "name": "python3",
      "display_name": "Python 3"
    },
    "language_info": {
      "name": "python"
    }
  },
  "cells": [
    {
      "cell_type": "markdown",
      "source": [],
      "metadata": {
        "id": "KLHYmxMBVl-W"
      }
    },
    {
      "cell_type": "code",
      "source": [
        "!pip install kneed"
      ],
      "metadata": {
        "colab": {
          "base_uri": "https://localhost:8080/"
        },
        "id": "dmaOJ4drKWKn",
        "outputId": "711b3314-c789-4347-b60a-f6771b29bba1"
      },
      "execution_count": 183,
      "outputs": [
        {
          "output_type": "stream",
          "name": "stdout",
          "text": [
            "Looking in indexes: https://pypi.org/simple, https://us-python.pkg.dev/colab-wheels/public/simple/\n",
            "Requirement already satisfied: kneed in /usr/local/lib/python3.9/dist-packages (0.8.2)\n",
            "Requirement already satisfied: numpy>=1.14.2 in /usr/local/lib/python3.9/dist-packages (from kneed) (1.22.4)\n",
            "Requirement already satisfied: scipy>=1.0.0 in /usr/local/lib/python3.9/dist-packages (from kneed) (1.10.1)\n"
          ]
        }
      ]
    },
    {
      "cell_type": "code",
      "execution_count": 184,
      "metadata": {
        "id": "SWWDeWeBlg5c"
      },
      "outputs": [],
      "source": [
        "import numpy as np\n",
        "import pandas as pd\n",
        "import matplotlib.pyplot as plt\n",
        "import seaborn as sns\n",
        "from sklearn.preprocessing import StandardScaler\n",
        "from sklearn.neighbors import NearestNeighbors\n",
        "from sklearn.cluster import DBSCAN\n",
        "from kneed import KneeLocator\n",
        "from sklearn.metrics import silhouette_score, calinski_harabasz_score, davies_bouldin_score\n",
        "from sklearn.decomposition import PCA"
      ]
    },
    {
      "cell_type": "code",
      "source": [
        "df = pd.read_csv(\"https://raw.githubusercontent.com/rahmantaufik27/dataset/main/study/credit_dataset.csv\")\n",
        "df"
      ],
      "metadata": {
        "colab": {
          "base_uri": "https://localhost:8080/",
          "height": 488
        },
        "id": "8kZShGULsihC",
        "outputId": "3867e479-c573-49b1-b85c-c4aaa43ab070"
      },
      "execution_count": 185,
      "outputs": [
        {
          "output_type": "execute_result",
          "data": {
            "text/plain": [
              "     customer_id  balance_number  balance_frequency  purchases_number  \\\n",
              "0         C10001       40.900749           0.818182             95.40   \n",
              "1         C10002     3202.467416           0.909091              0.00   \n",
              "2         C10003     2495.148862           1.000000            773.17   \n",
              "3         C10004     1666.670542           0.636364           1499.00   \n",
              "4         C10005      817.714335           1.000000             16.00   \n",
              "...          ...             ...                ...               ...   \n",
              "8945      C19186       28.493517           1.000000            291.12   \n",
              "8946      C19187       19.183215           1.000000            300.00   \n",
              "8947      C19188       23.398673           0.833333            144.40   \n",
              "8948      C19189       13.457564           0.833333              0.00   \n",
              "8949      C19190      372.708075           0.666667           1093.25   \n",
              "\n",
              "      purchases_conditional  purchases_installment  purchases_cash  \\\n",
              "0                      0.00                  95.40        0.000000   \n",
              "1                      0.00                   0.00     6442.945483   \n",
              "2                    773.17                   0.00        0.000000   \n",
              "3                   1499.00                   0.00      205.788017   \n",
              "4                     16.00                   0.00        0.000000   \n",
              "...                     ...                    ...             ...   \n",
              "8945                   0.00                 291.12        0.000000   \n",
              "8946                   0.00                 300.00        0.000000   \n",
              "8947                   0.00                 144.40        0.000000   \n",
              "8948                   0.00                   0.00       36.558778   \n",
              "8949                1093.25                   0.00      127.040008   \n",
              "\n",
              "      purchases_frequency  purchases_frequency_conditional  \\\n",
              "0                0.166667                         0.000000   \n",
              "1                0.000000                         0.000000   \n",
              "2                1.000000                         1.000000   \n",
              "3                0.083333                         0.083333   \n",
              "4                0.083333                         0.083333   \n",
              "...                   ...                              ...   \n",
              "8945             1.000000                         0.000000   \n",
              "8946             1.000000                         0.000000   \n",
              "8947             0.833333                         0.000000   \n",
              "8948             0.000000                         0.000000   \n",
              "8949             0.666667                         0.666667   \n",
              "\n",
              "      purchases_frequency_installment  ...  purchases_cash_advance  \\\n",
              "0                            0.083333  ...                       0   \n",
              "1                            0.000000  ...                       4   \n",
              "2                            0.000000  ...                       0   \n",
              "3                            0.000000  ...                       1   \n",
              "4                            0.000000  ...                       0   \n",
              "...                               ...  ...                     ...   \n",
              "8945                         0.833333  ...                       0   \n",
              "8946                         0.833333  ...                       0   \n",
              "8947                         0.666667  ...                       0   \n",
              "8948                         0.000000  ...                       2   \n",
              "8949                         0.000000  ...                       2   \n",
              "\n",
              "      purchases_trx  limit_credit  payment_number  payment_minimum  \\\n",
              "0                 2        1000.0      201.802084       139.509787   \n",
              "1                 0        7000.0     4103.032597      1072.340217   \n",
              "2                12        7500.0      622.066742       627.284787   \n",
              "3                 1        7500.0        0.000000              NaN   \n",
              "4                 1        1200.0      678.334763       244.791237   \n",
              "...             ...           ...             ...              ...   \n",
              "8945              6        1000.0      325.594462        48.886365   \n",
              "8946              6        1000.0      275.861322              NaN   \n",
              "8947              5        1000.0       81.270775        82.418369   \n",
              "8948              0         500.0       52.549959        55.755628   \n",
              "8949             23        1200.0       63.165404        88.288956   \n",
              "\n",
              "      payment_total  tenure  tax_number  tax_cash  tax_total  \n",
              "0          0.000000      12         NaN       NaN        NaN  \n",
              "1          0.222222      12         NaN       NaN        NaN  \n",
              "2          0.000000      12         NaN       NaN        NaN  \n",
              "3          0.000000      12         NaN       NaN        NaN  \n",
              "4          0.000000      12         NaN       NaN        NaN  \n",
              "...             ...     ...         ...       ...        ...  \n",
              "8945       0.500000       6         NaN       NaN        NaN  \n",
              "8946       0.000000       6         NaN       NaN        NaN  \n",
              "8947       0.250000       6         NaN       NaN        NaN  \n",
              "8948       0.250000       6         NaN       NaN        NaN  \n",
              "8949       0.000000       6         NaN       NaN        NaN  \n",
              "\n",
              "[8950 rows x 21 columns]"
            ],
            "text/html": [
              "\n",
              "  <div id=\"df-b2803186-b038-46a3-8741-804433e73123\">\n",
              "    <div class=\"colab-df-container\">\n",
              "      <div>\n",
              "<style scoped>\n",
              "    .dataframe tbody tr th:only-of-type {\n",
              "        vertical-align: middle;\n",
              "    }\n",
              "\n",
              "    .dataframe tbody tr th {\n",
              "        vertical-align: top;\n",
              "    }\n",
              "\n",
              "    .dataframe thead th {\n",
              "        text-align: right;\n",
              "    }\n",
              "</style>\n",
              "<table border=\"1\" class=\"dataframe\">\n",
              "  <thead>\n",
              "    <tr style=\"text-align: right;\">\n",
              "      <th></th>\n",
              "      <th>customer_id</th>\n",
              "      <th>balance_number</th>\n",
              "      <th>balance_frequency</th>\n",
              "      <th>purchases_number</th>\n",
              "      <th>purchases_conditional</th>\n",
              "      <th>purchases_installment</th>\n",
              "      <th>purchases_cash</th>\n",
              "      <th>purchases_frequency</th>\n",
              "      <th>purchases_frequency_conditional</th>\n",
              "      <th>purchases_frequency_installment</th>\n",
              "      <th>...</th>\n",
              "      <th>purchases_cash_advance</th>\n",
              "      <th>purchases_trx</th>\n",
              "      <th>limit_credit</th>\n",
              "      <th>payment_number</th>\n",
              "      <th>payment_minimum</th>\n",
              "      <th>payment_total</th>\n",
              "      <th>tenure</th>\n",
              "      <th>tax_number</th>\n",
              "      <th>tax_cash</th>\n",
              "      <th>tax_total</th>\n",
              "    </tr>\n",
              "  </thead>\n",
              "  <tbody>\n",
              "    <tr>\n",
              "      <th>0</th>\n",
              "      <td>C10001</td>\n",
              "      <td>40.900749</td>\n",
              "      <td>0.818182</td>\n",
              "      <td>95.40</td>\n",
              "      <td>0.00</td>\n",
              "      <td>95.40</td>\n",
              "      <td>0.000000</td>\n",
              "      <td>0.166667</td>\n",
              "      <td>0.000000</td>\n",
              "      <td>0.083333</td>\n",
              "      <td>...</td>\n",
              "      <td>0</td>\n",
              "      <td>2</td>\n",
              "      <td>1000.0</td>\n",
              "      <td>201.802084</td>\n",
              "      <td>139.509787</td>\n",
              "      <td>0.000000</td>\n",
              "      <td>12</td>\n",
              "      <td>NaN</td>\n",
              "      <td>NaN</td>\n",
              "      <td>NaN</td>\n",
              "    </tr>\n",
              "    <tr>\n",
              "      <th>1</th>\n",
              "      <td>C10002</td>\n",
              "      <td>3202.467416</td>\n",
              "      <td>0.909091</td>\n",
              "      <td>0.00</td>\n",
              "      <td>0.00</td>\n",
              "      <td>0.00</td>\n",
              "      <td>6442.945483</td>\n",
              "      <td>0.000000</td>\n",
              "      <td>0.000000</td>\n",
              "      <td>0.000000</td>\n",
              "      <td>...</td>\n",
              "      <td>4</td>\n",
              "      <td>0</td>\n",
              "      <td>7000.0</td>\n",
              "      <td>4103.032597</td>\n",
              "      <td>1072.340217</td>\n",
              "      <td>0.222222</td>\n",
              "      <td>12</td>\n",
              "      <td>NaN</td>\n",
              "      <td>NaN</td>\n",
              "      <td>NaN</td>\n",
              "    </tr>\n",
              "    <tr>\n",
              "      <th>2</th>\n",
              "      <td>C10003</td>\n",
              "      <td>2495.148862</td>\n",
              "      <td>1.000000</td>\n",
              "      <td>773.17</td>\n",
              "      <td>773.17</td>\n",
              "      <td>0.00</td>\n",
              "      <td>0.000000</td>\n",
              "      <td>1.000000</td>\n",
              "      <td>1.000000</td>\n",
              "      <td>0.000000</td>\n",
              "      <td>...</td>\n",
              "      <td>0</td>\n",
              "      <td>12</td>\n",
              "      <td>7500.0</td>\n",
              "      <td>622.066742</td>\n",
              "      <td>627.284787</td>\n",
              "      <td>0.000000</td>\n",
              "      <td>12</td>\n",
              "      <td>NaN</td>\n",
              "      <td>NaN</td>\n",
              "      <td>NaN</td>\n",
              "    </tr>\n",
              "    <tr>\n",
              "      <th>3</th>\n",
              "      <td>C10004</td>\n",
              "      <td>1666.670542</td>\n",
              "      <td>0.636364</td>\n",
              "      <td>1499.00</td>\n",
              "      <td>1499.00</td>\n",
              "      <td>0.00</td>\n",
              "      <td>205.788017</td>\n",
              "      <td>0.083333</td>\n",
              "      <td>0.083333</td>\n",
              "      <td>0.000000</td>\n",
              "      <td>...</td>\n",
              "      <td>1</td>\n",
              "      <td>1</td>\n",
              "      <td>7500.0</td>\n",
              "      <td>0.000000</td>\n",
              "      <td>NaN</td>\n",
              "      <td>0.000000</td>\n",
              "      <td>12</td>\n",
              "      <td>NaN</td>\n",
              "      <td>NaN</td>\n",
              "      <td>NaN</td>\n",
              "    </tr>\n",
              "    <tr>\n",
              "      <th>4</th>\n",
              "      <td>C10005</td>\n",
              "      <td>817.714335</td>\n",
              "      <td>1.000000</td>\n",
              "      <td>16.00</td>\n",
              "      <td>16.00</td>\n",
              "      <td>0.00</td>\n",
              "      <td>0.000000</td>\n",
              "      <td>0.083333</td>\n",
              "      <td>0.083333</td>\n",
              "      <td>0.000000</td>\n",
              "      <td>...</td>\n",
              "      <td>0</td>\n",
              "      <td>1</td>\n",
              "      <td>1200.0</td>\n",
              "      <td>678.334763</td>\n",
              "      <td>244.791237</td>\n",
              "      <td>0.000000</td>\n",
              "      <td>12</td>\n",
              "      <td>NaN</td>\n",
              "      <td>NaN</td>\n",
              "      <td>NaN</td>\n",
              "    </tr>\n",
              "    <tr>\n",
              "      <th>...</th>\n",
              "      <td>...</td>\n",
              "      <td>...</td>\n",
              "      <td>...</td>\n",
              "      <td>...</td>\n",
              "      <td>...</td>\n",
              "      <td>...</td>\n",
              "      <td>...</td>\n",
              "      <td>...</td>\n",
              "      <td>...</td>\n",
              "      <td>...</td>\n",
              "      <td>...</td>\n",
              "      <td>...</td>\n",
              "      <td>...</td>\n",
              "      <td>...</td>\n",
              "      <td>...</td>\n",
              "      <td>...</td>\n",
              "      <td>...</td>\n",
              "      <td>...</td>\n",
              "      <td>...</td>\n",
              "      <td>...</td>\n",
              "      <td>...</td>\n",
              "    </tr>\n",
              "    <tr>\n",
              "      <th>8945</th>\n",
              "      <td>C19186</td>\n",
              "      <td>28.493517</td>\n",
              "      <td>1.000000</td>\n",
              "      <td>291.12</td>\n",
              "      <td>0.00</td>\n",
              "      <td>291.12</td>\n",
              "      <td>0.000000</td>\n",
              "      <td>1.000000</td>\n",
              "      <td>0.000000</td>\n",
              "      <td>0.833333</td>\n",
              "      <td>...</td>\n",
              "      <td>0</td>\n",
              "      <td>6</td>\n",
              "      <td>1000.0</td>\n",
              "      <td>325.594462</td>\n",
              "      <td>48.886365</td>\n",
              "      <td>0.500000</td>\n",
              "      <td>6</td>\n",
              "      <td>NaN</td>\n",
              "      <td>NaN</td>\n",
              "      <td>NaN</td>\n",
              "    </tr>\n",
              "    <tr>\n",
              "      <th>8946</th>\n",
              "      <td>C19187</td>\n",
              "      <td>19.183215</td>\n",
              "      <td>1.000000</td>\n",
              "      <td>300.00</td>\n",
              "      <td>0.00</td>\n",
              "      <td>300.00</td>\n",
              "      <td>0.000000</td>\n",
              "      <td>1.000000</td>\n",
              "      <td>0.000000</td>\n",
              "      <td>0.833333</td>\n",
              "      <td>...</td>\n",
              "      <td>0</td>\n",
              "      <td>6</td>\n",
              "      <td>1000.0</td>\n",
              "      <td>275.861322</td>\n",
              "      <td>NaN</td>\n",
              "      <td>0.000000</td>\n",
              "      <td>6</td>\n",
              "      <td>NaN</td>\n",
              "      <td>NaN</td>\n",
              "      <td>NaN</td>\n",
              "    </tr>\n",
              "    <tr>\n",
              "      <th>8947</th>\n",
              "      <td>C19188</td>\n",
              "      <td>23.398673</td>\n",
              "      <td>0.833333</td>\n",
              "      <td>144.40</td>\n",
              "      <td>0.00</td>\n",
              "      <td>144.40</td>\n",
              "      <td>0.000000</td>\n",
              "      <td>0.833333</td>\n",
              "      <td>0.000000</td>\n",
              "      <td>0.666667</td>\n",
              "      <td>...</td>\n",
              "      <td>0</td>\n",
              "      <td>5</td>\n",
              "      <td>1000.0</td>\n",
              "      <td>81.270775</td>\n",
              "      <td>82.418369</td>\n",
              "      <td>0.250000</td>\n",
              "      <td>6</td>\n",
              "      <td>NaN</td>\n",
              "      <td>NaN</td>\n",
              "      <td>NaN</td>\n",
              "    </tr>\n",
              "    <tr>\n",
              "      <th>8948</th>\n",
              "      <td>C19189</td>\n",
              "      <td>13.457564</td>\n",
              "      <td>0.833333</td>\n",
              "      <td>0.00</td>\n",
              "      <td>0.00</td>\n",
              "      <td>0.00</td>\n",
              "      <td>36.558778</td>\n",
              "      <td>0.000000</td>\n",
              "      <td>0.000000</td>\n",
              "      <td>0.000000</td>\n",
              "      <td>...</td>\n",
              "      <td>2</td>\n",
              "      <td>0</td>\n",
              "      <td>500.0</td>\n",
              "      <td>52.549959</td>\n",
              "      <td>55.755628</td>\n",
              "      <td>0.250000</td>\n",
              "      <td>6</td>\n",
              "      <td>NaN</td>\n",
              "      <td>NaN</td>\n",
              "      <td>NaN</td>\n",
              "    </tr>\n",
              "    <tr>\n",
              "      <th>8949</th>\n",
              "      <td>C19190</td>\n",
              "      <td>372.708075</td>\n",
              "      <td>0.666667</td>\n",
              "      <td>1093.25</td>\n",
              "      <td>1093.25</td>\n",
              "      <td>0.00</td>\n",
              "      <td>127.040008</td>\n",
              "      <td>0.666667</td>\n",
              "      <td>0.666667</td>\n",
              "      <td>0.000000</td>\n",
              "      <td>...</td>\n",
              "      <td>2</td>\n",
              "      <td>23</td>\n",
              "      <td>1200.0</td>\n",
              "      <td>63.165404</td>\n",
              "      <td>88.288956</td>\n",
              "      <td>0.000000</td>\n",
              "      <td>6</td>\n",
              "      <td>NaN</td>\n",
              "      <td>NaN</td>\n",
              "      <td>NaN</td>\n",
              "    </tr>\n",
              "  </tbody>\n",
              "</table>\n",
              "<p>8950 rows × 21 columns</p>\n",
              "</div>\n",
              "      <button class=\"colab-df-convert\" onclick=\"convertToInteractive('df-b2803186-b038-46a3-8741-804433e73123')\"\n",
              "              title=\"Convert this dataframe to an interactive table.\"\n",
              "              style=\"display:none;\">\n",
              "        \n",
              "  <svg xmlns=\"http://www.w3.org/2000/svg\" height=\"24px\"viewBox=\"0 0 24 24\"\n",
              "       width=\"24px\">\n",
              "    <path d=\"M0 0h24v24H0V0z\" fill=\"none\"/>\n",
              "    <path d=\"M18.56 5.44l.94 2.06.94-2.06 2.06-.94-2.06-.94-.94-2.06-.94 2.06-2.06.94zm-11 1L8.5 8.5l.94-2.06 2.06-.94-2.06-.94L8.5 2.5l-.94 2.06-2.06.94zm10 10l.94 2.06.94-2.06 2.06-.94-2.06-.94-.94-2.06-.94 2.06-2.06.94z\"/><path d=\"M17.41 7.96l-1.37-1.37c-.4-.4-.92-.59-1.43-.59-.52 0-1.04.2-1.43.59L10.3 9.45l-7.72 7.72c-.78.78-.78 2.05 0 2.83L4 21.41c.39.39.9.59 1.41.59.51 0 1.02-.2 1.41-.59l7.78-7.78 2.81-2.81c.8-.78.8-2.07 0-2.86zM5.41 20L4 18.59l7.72-7.72 1.47 1.35L5.41 20z\"/>\n",
              "  </svg>\n",
              "      </button>\n",
              "      \n",
              "  <style>\n",
              "    .colab-df-container {\n",
              "      display:flex;\n",
              "      flex-wrap:wrap;\n",
              "      gap: 12px;\n",
              "    }\n",
              "\n",
              "    .colab-df-convert {\n",
              "      background-color: #E8F0FE;\n",
              "      border: none;\n",
              "      border-radius: 50%;\n",
              "      cursor: pointer;\n",
              "      display: none;\n",
              "      fill: #1967D2;\n",
              "      height: 32px;\n",
              "      padding: 0 0 0 0;\n",
              "      width: 32px;\n",
              "    }\n",
              "\n",
              "    .colab-df-convert:hover {\n",
              "      background-color: #E2EBFA;\n",
              "      box-shadow: 0px 1px 2px rgba(60, 64, 67, 0.3), 0px 1px 3px 1px rgba(60, 64, 67, 0.15);\n",
              "      fill: #174EA6;\n",
              "    }\n",
              "\n",
              "    [theme=dark] .colab-df-convert {\n",
              "      background-color: #3B4455;\n",
              "      fill: #D2E3FC;\n",
              "    }\n",
              "\n",
              "    [theme=dark] .colab-df-convert:hover {\n",
              "      background-color: #434B5C;\n",
              "      box-shadow: 0px 1px 3px 1px rgba(0, 0, 0, 0.15);\n",
              "      filter: drop-shadow(0px 1px 2px rgba(0, 0, 0, 0.3));\n",
              "      fill: #FFFFFF;\n",
              "    }\n",
              "  </style>\n",
              "\n",
              "      <script>\n",
              "        const buttonEl =\n",
              "          document.querySelector('#df-b2803186-b038-46a3-8741-804433e73123 button.colab-df-convert');\n",
              "        buttonEl.style.display =\n",
              "          google.colab.kernel.accessAllowed ? 'block' : 'none';\n",
              "\n",
              "        async function convertToInteractive(key) {\n",
              "          const element = document.querySelector('#df-b2803186-b038-46a3-8741-804433e73123');\n",
              "          const dataTable =\n",
              "            await google.colab.kernel.invokeFunction('convertToInteractive',\n",
              "                                                     [key], {});\n",
              "          if (!dataTable) return;\n",
              "\n",
              "          const docLinkHtml = 'Like what you see? Visit the ' +\n",
              "            '<a target=\"_blank\" href=https://colab.research.google.com/notebooks/data_table.ipynb>data table notebook</a>'\n",
              "            + ' to learn more about interactive tables.';\n",
              "          element.innerHTML = '';\n",
              "          dataTable['output_type'] = 'display_data';\n",
              "          await google.colab.output.renderOutput(dataTable, element);\n",
              "          const docLink = document.createElement('div');\n",
              "          docLink.innerHTML = docLinkHtml;\n",
              "          element.appendChild(docLink);\n",
              "        }\n",
              "      </script>\n",
              "    </div>\n",
              "  </div>\n",
              "  "
            ]
          },
          "metadata": {},
          "execution_count": 185
        }
      ]
    },
    {
      "cell_type": "code",
      "source": [
        "df. info()"
      ],
      "metadata": {
        "colab": {
          "base_uri": "https://localhost:8080/"
        },
        "id": "X6mF0FRYxUlO",
        "outputId": "caf3a895-d086-40e6-d388-2938559bca84"
      },
      "execution_count": 186,
      "outputs": [
        {
          "output_type": "stream",
          "name": "stdout",
          "text": [
            "<class 'pandas.core.frame.DataFrame'>\n",
            "RangeIndex: 8950 entries, 0 to 8949\n",
            "Data columns (total 21 columns):\n",
            " #   Column                           Non-Null Count  Dtype  \n",
            "---  ------                           --------------  -----  \n",
            " 0   customer_id                      8950 non-null   object \n",
            " 1   balance_number                   8950 non-null   float64\n",
            " 2   balance_frequency                8950 non-null   float64\n",
            " 3   purchases_number                 8950 non-null   float64\n",
            " 4   purchases_conditional            8950 non-null   float64\n",
            " 5   purchases_installment            8950 non-null   float64\n",
            " 6   purchases_cash                   8950 non-null   float64\n",
            " 7   purchases_frequency              8950 non-null   float64\n",
            " 8   purchases_frequency_conditional  8950 non-null   float64\n",
            " 9   purchases_frequency_installment  8950 non-null   float64\n",
            " 10  purchases_cash_frequency         8950 non-null   float64\n",
            " 11  purchases_cash_advance           8950 non-null   int64  \n",
            " 12  purchases_trx                    8950 non-null   int64  \n",
            " 13  limit_credit                     8949 non-null   float64\n",
            " 14  payment_number                   8950 non-null   float64\n",
            " 15  payment_minimum                  8637 non-null   float64\n",
            " 16  payment_total                    8950 non-null   float64\n",
            " 17  tenure                           8950 non-null   int64  \n",
            " 18  tax_number                       0 non-null      float64\n",
            " 19  tax_cash                         0 non-null      float64\n",
            " 20  tax_total                        0 non-null      float64\n",
            "dtypes: float64(17), int64(3), object(1)\n",
            "memory usage: 1.4+ MB\n"
          ]
        }
      ]
    },
    {
      "cell_type": "code",
      "source": [
        "df.isna().sum()"
      ],
      "metadata": {
        "colab": {
          "base_uri": "https://localhost:8080/"
        },
        "id": "Lgyaq9DyxbLv",
        "outputId": "a4568d93-0bd5-4f4c-97e4-d2f0f8a52a67"
      },
      "execution_count": 187,
      "outputs": [
        {
          "output_type": "execute_result",
          "data": {
            "text/plain": [
              "customer_id                           0\n",
              "balance_number                        0\n",
              "balance_frequency                     0\n",
              "purchases_number                      0\n",
              "purchases_conditional                 0\n",
              "purchases_installment                 0\n",
              "purchases_cash                        0\n",
              "purchases_frequency                   0\n",
              "purchases_frequency_conditional       0\n",
              "purchases_frequency_installment       0\n",
              "purchases_cash_frequency              0\n",
              "purchases_cash_advance                0\n",
              "purchases_trx                         0\n",
              "limit_credit                          1\n",
              "payment_number                        0\n",
              "payment_minimum                     313\n",
              "payment_total                         0\n",
              "tenure                                0\n",
              "tax_number                         8950\n",
              "tax_cash                           8950\n",
              "tax_total                          8950\n",
              "dtype: int64"
            ]
          },
          "metadata": {},
          "execution_count": 187
        }
      ]
    },
    {
      "cell_type": "code",
      "source": [
        "sns.boxplot(df['limit_credit'])"
      ],
      "metadata": {
        "colab": {
          "base_uri": "https://localhost:8080/",
          "height": 448
        },
        "id": "zPV24aWmLTz1",
        "outputId": "c6292eac-828b-43ba-f8d7-f70b64403dcd"
      },
      "execution_count": 188,
      "outputs": [
        {
          "output_type": "execute_result",
          "data": {
            "text/plain": [
              "<Axes: >"
            ]
          },
          "metadata": {},
          "execution_count": 188
        },
        {
          "output_type": "display_data",
          "data": {
            "text/plain": [
              "<Figure size 640x480 with 1 Axes>"
            ],
            "image/png": "[encoded data removed]"
          },
          "metadata": {}
        }
      ]
    },
    {
      "cell_type": "code",
      "source": [
        "df.loc[df[\"limit_credit\"]<15000, \"limit_credit\"] = np.nan\n",
        "df.loc[df[\"limit_credit\"]>25000, \"limit_credit\"] = np.nan"
      ],
      "metadata": {
        "id": "iyglbX7FfT79"
      },
      "execution_count": 189,
      "outputs": []
    },
    {
      "cell_type": "code",
      "source": [
        "df.isna().sum()"
      ],
      "metadata": {
        "colab": {
          "base_uri": "https://localhost:8080/"
        },
        "id": "lhwh112fXu13",
        "outputId": "4f2acc01-4d9b-45e6-ceb4-ee0f5c84f9b1"
      },
      "execution_count": 190,
      "outputs": [
        {
          "output_type": "execute_result",
          "data": {
            "text/plain": [
              "customer_id                           0\n",
              "balance_number                        0\n",
              "balance_frequency                     0\n",
              "purchases_number                      0\n",
              "purchases_conditional                 0\n",
              "purchases_installment                 0\n",
              "purchases_cash                        0\n",
              "purchases_frequency                   0\n",
              "purchases_frequency_conditional       0\n",
              "purchases_frequency_installment       0\n",
              "purchases_cash_frequency              0\n",
              "purchases_cash_advance                0\n",
              "purchases_trx                         0\n",
              "limit_credit                       8767\n",
              "payment_number                        0\n",
              "payment_minimum                     313\n",
              "payment_total                         0\n",
              "tenure                                0\n",
              "tax_number                         8950\n",
              "tax_cash                           8950\n",
              "tax_total                          8950\n",
              "dtype: int64"
            ]
          },
          "metadata": {},
          "execution_count": 190
        }
      ]
    },
    {
      "cell_type": "code",
      "source": [
        "df[\"payment_minimum\"].fillna(value=df[\"payment_minimum\"].mean(), inplace=True)\n",
        "df[\"limit_credit\"].fillna(value=df[\"limit_credit\"].mean(), inplace=True)"
      ],
      "metadata": {
        "id": "8zfkcQbfQ00o"
      },
      "execution_count": 191,
      "outputs": []
    },
    {
      "cell_type": "code",
      "source": [
        "df_clean = df.drop([\"customer_id\", \"tax_number\", \"tax_cash\", \"tax_total\"], axis=1)"
      ],
      "metadata": {
        "id": "f-R163ofTEm8"
      },
      "execution_count": 192,
      "outputs": []
    },
    {
      "cell_type": "code",
      "source": [
        "df_clean.isna().sum()"
      ],
      "metadata": {
        "colab": {
          "base_uri": "https://localhost:8080/"
        },
        "id": "oMBf13s2Q4EY",
        "outputId": "750b1502-f34c-428b-ebda-e80a7972dd2c"
      },
      "execution_count": 193,
      "outputs": [
        {
          "output_type": "execute_result",
          "data": {
            "text/plain": [
              "balance_number                     0\n",
              "balance_frequency                  0\n",
              "purchases_number                   0\n",
              "purchases_conditional              0\n",
              "purchases_installment              0\n",
              "purchases_cash                     0\n",
              "purchases_frequency                0\n",
              "purchases_frequency_conditional    0\n",
              "purchases_frequency_installment    0\n",
              "purchases_cash_frequency           0\n",
              "purchases_cash_advance             0\n",
              "purchases_trx                      0\n",
              "limit_credit                       0\n",
              "payment_number                     0\n",
              "payment_minimum                    0\n",
              "payment_total                      0\n",
              "tenure                             0\n",
              "dtype: int64"
            ]
          },
          "metadata": {},
          "execution_count": 193
        }
      ]
    },
    {
      "cell_type": "code",
      "source": [
        "df_clean.info()"
      ],
      "metadata": {
        "colab": {
          "base_uri": "https://localhost:8080/"
        },
        "id": "fqK4xztlYTLr",
        "outputId": "6e766739-05e4-46f9-eb04-61fcb86fefb8"
      },
      "execution_count": 194,
      "outputs": [
        {
          "output_type": "stream",
          "name": "stdout",
          "text": [
            "<class 'pandas.core.frame.DataFrame'>\n",
            "RangeIndex: 8950 entries, 0 to 8949\n",
            "Data columns (total 17 columns):\n",
            " #   Column                           Non-Null Count  Dtype  \n",
            "---  ------                           --------------  -----  \n",
            " 0   balance_number                   8950 non-null   float64\n",
            " 1   balance_frequency                8950 non-null   float64\n",
            " 2   purchases_number                 8950 non-null   float64\n",
            " 3   purchases_conditional            8950 non-null   float64\n",
            " 4   purchases_installment            8950 non-null   float64\n",
            " 5   purchases_cash                   8950 non-null   float64\n",
            " 6   purchases_frequency              8950 non-null   float64\n",
            " 7   purchases_frequency_conditional  8950 non-null   float64\n",
            " 8   purchases_frequency_installment  8950 non-null   float64\n",
            " 9   purchases_cash_frequency         8950 non-null   float64\n",
            " 10  purchases_cash_advance           8950 non-null   int64  \n",
            " 11  purchases_trx                    8950 non-null   int64  \n",
            " 12  limit_credit                     8950 non-null   float64\n",
            " 13  payment_number                   8950 non-null   float64\n",
            " 14  payment_minimum                  8950 non-null   float64\n",
            " 15  payment_total                    8950 non-null   float64\n",
            " 16  tenure                           8950 non-null   int64  \n",
            "dtypes: float64(14), int64(3)\n",
            "memory usage: 1.2 MB\n"
          ]
        }
      ]
    },
    {
      "cell_type": "code",
      "source": [
        "data_scaler = StandardScaler()\n",
        "scaled_data = data_scaler.fit_transform(df_clean)"
      ],
      "metadata": {
        "id": "SrKua3a8eCRZ"
      },
      "execution_count": 195,
      "outputs": []
    },
    {
      "cell_type": "markdown",
      "source": [
        "##Modelling data saya menggunakan metode dbscan, karena data yg digunakan cukup banyak."
      ],
      "metadata": {
        "id": "gyTAXDi3hB--"
      }
    },
    {
      "cell_type": "code",
      "source": [
        "nbrs = NearestNeighbors().fit(scaled_data)\n",
        "neigh_dist, neigh_ind = nbrs.kneighbors(scaled_data)\n",
        "sort_neigh_dist = np.sort(neigh_dist, axis=0)\n",
        "k_dist = sort_neigh_dist[:,4]\n",
        "kneedle = KneeLocator(x = range(1, len(neigh_dist)+1), y = k_dist, S=1.0,\n",
        "                      curve=\"concave\", direction = \"increasing\", online=True)\n",
        "print(kneedle.knee_y)\n",
        "kneedle.plot_knee()\n",
        "plt.show()"
      ],
      "metadata": {
        "colab": {
          "base_uri": "https://localhost:8080/",
          "height": 563
        },
        "id": "CmScWK-ReOIb",
        "outputId": "15290d43-13cd-4425-9739-5526e41c5e82"
      },
      "execution_count": 196,
      "outputs": [
        {
          "output_type": "stream",
          "name": "stdout",
          "text": [
            "7.4197417076235235\n"
          ]
        },
        {
          "output_type": "display_data",
          "data": {
            "text/plain": [
              "<Figure size 600x600 with 1 Axes>"
            ],
            "image/png": "[encoded data removed]"
          },
          "metadata": {}
        }
      ]
    },
    {
      "cell_type": "code",
      "source": [
        "clusters = DBSCAN(eps = 7.3, min_samples = 4).fit(scaled_data)\n",
        "label= clusters.labels_\n",
        "np.unique(label)"
      ],
      "metadata": {
        "colab": {
          "base_uri": "https://localhost:8080/"
        },
        "id": "F1cmhNu6SH14",
        "outputId": "36025a28-3870-4b9f-dee4-ab012bfa0a4e"
      },
      "execution_count": 197,
      "outputs": [
        {
          "output_type": "execute_result",
          "data": {
            "text/plain": [
              "array([-1,  0])"
            ]
          },
          "metadata": {},
          "execution_count": 197
        }
      ]
    },
    {
      "cell_type": "code",
      "source": [
        "df[\"predicted_cluster\"]= label\n",
        "\n",
        "\n",
        "reduced_data= PCA(n_components=2).fit_transform(df_clean)\n",
        "df_reduced_data= pd.DataFrame(reduced_data, columns=[\"pca1\",\"pca2\"])\n",
        "sns.scatterplot(x=\"pca1\", y=\"pca2\", hue=df[\"predicted_cluster\"],data=df_reduced_data)\n",
        "plt.title(\"cluster by DBSCAN\")\n",
        "plt.show()"
      ],
      "metadata": {
        "id": "Sx-27qagef4f",
        "colab": {
          "base_uri": "https://localhost:8080/",
          "height": 472
        },
        "outputId": "da1ef2a5-b138-4bf7-ac32-1f877134f78c"
      },
      "execution_count": 198,
      "outputs": [
        {
          "output_type": "display_data",
          "data": {
            "text/plain": [
              "<Figure size 640x480 with 1 Axes>"
            ],
            "image/png": "[encoded data removed]"
          },
          "metadata": {}
        }
      ]
    },
    {
      "cell_type": "code",
      "source": [
        "ss = silhouette_score(df_clean, label)\n",
        "print(f\"Akurasi berdasarkan Silhouette score adalah: {ss}\")"
      ],
      "metadata": {
        "id": "dVZfkKOaelEj",
        "colab": {
          "base_uri": "https://localhost:8080/"
        },
        "outputId": "4afb4264-2c96-4391-bb3b-89604d40a5ec"
      },
      "execution_count": 199,
      "outputs": [
        {
          "output_type": "stream",
          "name": "stdout",
          "text": [
            "Akurasi berdasarkan Silhouette score adalah: 0.8697344337687081\n"
          ]
        }
      ]
    }
  ]
}